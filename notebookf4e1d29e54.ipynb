{
 "cells": [
  {
   "cell_type": "code",
   "execution_count": 1,
   "id": "245852e5",
   "metadata": {
    "_cell_guid": "b1076dfc-b9ad-4769-8c92-a6c4dae69d19",
    "_uuid": "8f2839f25d086af736a60e9eeb907d3b93b6e0e5",
    "execution": {
     "iopub.execute_input": "2023-12-30T10:37:09.509801Z",
     "iopub.status.busy": "2023-12-30T10:37:09.509288Z",
     "iopub.status.idle": "2023-12-30T10:39:34.471626Z",
     "shell.execute_reply": "2023-12-30T10:39:34.470399Z"
    },
    "papermill": {
     "duration": 144.968008,
     "end_time": "2023-12-30T10:39:34.474050",
     "exception": false,
     "start_time": "2023-12-30T10:37:09.506042",
     "status": "completed"
    },
    "tags": []
   },
   "outputs": [
    {
     "name": "stdout",
     "output_type": "stream",
     "text": [
      "Cloning into 'ecctools'...\r\n",
      "fatal: unable to access 'https://github.com/albertobsd/ecctools.git/': Could not resolve host: github.com\r\n",
      "\r\n",
      "\r\n",
      "\r\n",
      "libgcrypt20 is already the newest version (1.8.5-5ubuntu1.1).\r\n",
      "Suggested packages:\r\n",
      "  libgcrypt20-doc\r\n",
      "The following NEW packages will be installed:\r\n",
      "  libgcrypt20-dev libgpg-error-dev\r\n",
      "0 upgraded, 2 newly installed, 0 to remove and 71 not upgraded.\r\n",
      "Need to get 579 kB of archives.\r\n",
      "After this operation, 2522 kB of additional disk space will be used.\r\n",
      "Err:1 http://archive.ubuntu.com/ubuntu focal/main amd64 libgpg-error-dev amd64 1.37-1\r\n",
      "  Temporary failure resolving 'archive.ubuntu.com'\r\n",
      "Ign:2 http://archive.ubuntu.com/ubuntu focal-updates/main amd64 libgcrypt20-dev amd64 1.8.5-5ubuntu1.1\r\n",
      "Err:2 http://security.ubuntu.com/ubuntu focal-updates/main amd64 libgcrypt20-dev amd64 1.8.5-5ubuntu1.1\r\n",
      "  Temporary failure resolving 'archive.ubuntu.com'\r\n",
      "E: Failed to fetch http://archive.ubuntu.com/ubuntu/pool/main/libg/libgpg-error/libgpg-error-dev_1.37-1_amd64.deb  Temporary failure resolving 'archive.ubuntu.com'\r\n",
      "E: Failed to fetch http://security.ubuntu.com/ubuntu/pool/main/libg/libgcrypt20/libgcrypt20-dev_1.8.5-5ubuntu1.1_amd64.deb  Temporary failure resolving 'archive.ubuntu.com'\r\n",
      "E: Unable to fetch some archives, maybe run apt-get update or try with --fix-missing?\r\n",
      "\r\n",
      "\r\n",
      "\r\n",
      "The following additional packages will be installed:\r\n",
      "  libgmpxx4ldbl\r\n",
      "Suggested packages:\r\n",
      "  gmp-doc libgmp10-doc libmpfr-dev\r\n",
      "The following NEW packages will be installed:\r\n",
      "  libgmp-dev libgmpxx4ldbl\r\n",
      "0 upgraded, 2 newly installed, 0 to remove and 71 not upgraded.\r\n",
      "Need to get 330 kB of archives.\r\n",
      "After this operation, 1786 kB of additional disk space will be used.\r\n",
      "Ign:1 http://archive.ubuntu.com/ubuntu focal-updates/main amd64 libgmpxx4ldbl amd64 2:6.2.0+dfsg-4ubuntu0.1\r\n",
      "Ign:2 http://archive.ubuntu.com/ubuntu focal-updates/main amd64 libgmp-dev amd64 2:6.2.0+dfsg-4ubuntu0.1\r\n",
      "Err:1 http://security.ubuntu.com/ubuntu focal-updates/main amd64 libgmpxx4ldbl amd64 2:6.2.0+dfsg-4ubuntu0.1\r\n",
      "  Temporary failure resolving 'archive.ubuntu.com'\r\n",
      "Err:2 http://security.ubuntu.com/ubuntu focal-updates/main amd64 libgmp-dev amd64 2:6.2.0+dfsg-4ubuntu0.1\r\n",
      "  Temporary failure resolving 'archive.ubuntu.com'\r\n",
      "E: Failed to fetch http://security.ubuntu.com/ubuntu/pool/main/g/gmp/libgmpxx4ldbl_6.2.0+dfsg-4ubuntu0.1_amd64.deb  Temporary failure resolving 'archive.ubuntu.com'\r\n",
      "E: Failed to fetch http://security.ubuntu.com/ubuntu/pool/main/g/gmp/libgmp-dev_6.2.0+dfsg-4ubuntu0.1_amd64.deb  Temporary failure resolving 'archive.ubuntu.com'\r\n",
      "E: Unable to fetch some archives, maybe run apt-get update or try with --fix-missing?\r\n",
      "/bin/bash: line 0: cd: ecctools: No such file or directory\r\n"
     ]
    }
   ],
   "source": [
    "import subprocess\n",
    "!git clone https://github.com/albertobsd/ecctools.git\n",
    "!apt-get install -y libgcrypt20 libgcrypt20-dev\n",
    "!apt-get install -y libgmp-dev\n",
    "!cd ecctools && make\n",
    "import subprocess\n",
    "\n",
    "def process_range(start_number, end_number, output_file):\n",
    "    with open(output_file, \"w\") as file:\n",
    "        for number in range(start_number, end_number + 1, 100):\n",
    "            command = f\"./ecctools/keymath 03633cbe3ec02b9401c5effa144c5b4d22f87940259634858fc7e59b1c09937852 - {number}00000000000000000000\"\n",
    "            try:\n",
    "                result = subprocess.check_output(command, shell=True, stderr=subprocess.STDOUT).decode(\"utf-8\")\n",
    "                if result.startswith(\"Result: 02145\"):\n",
    "                    file.write(f\"{number}\\t{result}\\n\")\n",
    "                    print(result)\n",
    "            except subprocess.CalledProcessError as e:\n",
    "                print(f\"Command failed with exit code {e.returncode}. Output:\\n{e.output.decode('utf-8')}\")\n",
    "                break"
   ]
  },
  {
   "cell_type": "code",
   "execution_count": 2,
   "id": "835500a4",
   "metadata": {
    "execution": {
     "iopub.execute_input": "2023-12-30T10:39:34.510166Z",
     "iopub.status.busy": "2023-12-30T10:39:34.509760Z",
     "iopub.status.idle": "2023-12-30T10:39:34.516525Z",
     "shell.execute_reply": "2023-12-30T10:39:34.515336Z"
    },
    "papermill": {
     "duration": 0.026988,
     "end_time": "2023-12-30T10:39:34.518297",
     "exception": false,
     "start_time": "2023-12-30T10:39:34.491309",
     "status": "completed"
    },
    "tags": []
   },
   "outputs": [
    {
     "name": "stdout",
     "output_type": "stream",
     "text": [
      "Command failed with exit code 127. Output:\n",
      "/bin/sh: 1: ./ecctools/keymath: not found\n",
      "\n"
     ]
    }
   ],
   "source": [
    "process_range(11669600475322314898, 11769600475312005460, \"meme_k7.txt\")"
   ]
  }
 ],
 "metadata": {
  "kaggle": {
   "accelerator": "none",
   "dataSources": [],
   "isGpuEnabled": false,
   "isInternetEnabled": false,
   "language": "python",
   "sourceType": "notebook"
  },
  "kernelspec": {
   "display_name": "Python 3",
   "language": "python",
   "name": "python3"
  },
  "language_info": {
   "codemirror_mode": {
    "name": "ipython",
    "version": 3
   },
   "file_extension": ".py",
   "mimetype": "text/x-python",
   "name": "python",
   "nbconvert_exporter": "python",
   "pygments_lexer": "ipython3",
   "version": "3.10.12"
  },
  "papermill": {
   "default_parameters": {},
   "duration": 147.804313,
   "end_time": "2023-12-30T10:39:34.855705",
   "environment_variables": {},
   "exception": null,
   "input_path": "__notebook__.ipynb",
   "output_path": "__notebook__.ipynb",
   "parameters": {},
   "start_time": "2023-12-30T10:37:07.051392",
   "version": "2.4.0"
  }
 },
 "nbformat": 4,
 "nbformat_minor": 5
}
